{
 "cells": [
  {
   "cell_type": "code",
   "execution_count": 18,
   "id": "74ee626e-0415-4b07-8422-b927b107c41b",
   "metadata": {},
   "outputs": [],
   "source": [
    "import numpy as np\n",
    "import pandas as pd\n",
    "\n",
    "import warnings\n",
    "warnings.filterwarnings('ignore')"
   ]
  },
  {
   "cell_type": "markdown",
   "id": "1dd2ab22-75c9-4056-b8fd-96dddcef671b",
   "metadata": {},
   "source": [
    "### Question 1\r\n",
    "Import the data from `assets/fraud_data.csv`. What percentage of the observations in the dataset are instances of fraud?\r\n",
    "\r\n",
    "*This function should return a float between 0 and 1.* "
   ]
  },
  {
   "cell_type": "code",
   "execution_count": 19,
   "id": "020546b5-35bc-47bb-b460-e24cb331f38c",
   "metadata": {},
   "outputs": [
    {
     "data": {
      "text/plain": [
       "0.016410823768035772"
      ]
     },
     "execution_count": 19,
     "metadata": {},
     "output_type": "execute_result"
    }
   ],
   "source": [
    "def answer_one():\n",
    "    df = pd.read_csv(\"assets/fraud_data.csv\")\n",
    "    y = df[\"Class\"]\n",
    "    return (len(y[y == 1]) / (len(y[y == 1]) + len(y[y == 0])))\n",
    "    # raise NotImplementedError()\n",
    "\n",
    "answer_one()"
   ]
  },
  {
   "cell_type": "code",
   "execution_count": 20,
   "id": "c9e5fac7-6b2c-4a05-9613-2e8e688d416c",
   "metadata": {},
   "outputs": [],
   "source": [
    "# Use X_train, X_test, y_train, y_test for all of the following questions\n",
    "from sklearn.model_selection import train_test_split\n",
    "\n",
    "df = pd.read_csv('assets/fraud_data.csv')\n",
    "\n",
    "X = df.iloc[:,:-1]\n",
    "y = df.iloc[:,-1]\n",
    "\n",
    "X_train, X_test, y_train, y_test = train_test_split(X, y, random_state=0)"
   ]
  },
  {
   "cell_type": "markdown",
   "id": "02986b5c-9006-4f39-b15b-53e5696cc0fc",
   "metadata": {},
   "source": [
    "### Question 2\r\n",
    "\r\n",
    "Using `X_train`, `X_test`, `y_train`, and `y_test` (as defined above), train a dummy classifier that classifies everything as the majority class of the training data. What is the accuracy of this classifier? What is the recall?\r\n",
    "\r\n",
    "*This function should a return a tuple with two floats, i.e. `(accuracy score, recall score)`.*"
   ]
  },
  {
   "cell_type": "code",
   "execution_count": 21,
   "id": "08ba3e05-7a84-4e8d-a488-a62f5c9f0921",
   "metadata": {},
   "outputs": [
    {
     "data": {
      "text/plain": [
       "(0.9852507374631269, 0.0)"
      ]
     },
     "execution_count": 21,
     "metadata": {},
     "output_type": "execute_result"
    }
   ],
   "source": [
    "def answer_two():\n",
    "    from sklearn.dummy import DummyClassifier\n",
    "    from sklearn.metrics import recall_score, accuracy_score\n",
    "\n",
    "    dummy_model = DummyClassifier(strategy=\"most_frequent\")\n",
    "    dummy_model.fit(X_train, y_train)\n",
    "    \n",
    "    dummy_pred = dummy_model.predict(X_test)\n",
    "\n",
    "    return (accuracy_score(y_test, dummy_pred), recall_score(y_test, dummy_pred))\n",
    "    # raise NotImplementedError()\n",
    "\n",
    "answer_two()"
   ]
  },
  {
   "cell_type": "markdown",
   "id": "7973d76e-2fb7-46b4-8417-4c926f3bce79",
   "metadata": {},
   "source": [
    "### Question 3\r\n",
    "\r\n",
    "Using X_train, X_test, y_train, y_test (as defined above), train a SVC classifer using the default parameters. What is the accuracy, recall, and precision of this classifier?\r\n",
    "\r\n",
    "*This function should a return a tuple with three floats, i.e. `(accuracy score, recall score, precision score)`.*"
   ]
  },
  {
   "cell_type": "code",
   "execution_count": 22,
   "id": "0a3dc659-66aa-49f8-b927-b2bf4dd03c44",
   "metadata": {},
   "outputs": [
    {
     "data": {
      "text/plain": [
       "(0.9900442477876106, 0.35, 0.9333333333333333)"
      ]
     },
     "execution_count": 22,
     "metadata": {},
     "output_type": "execute_result"
    }
   ],
   "source": [
    "def answer_three():\n",
    "    from sklearn.metrics import accuracy_score, recall_score, precision_score\n",
    "    from sklearn.svm import SVC\n",
    "\n",
    "    svm_model = SVC()\n",
    "    svm_model.fit(X_train, y_train)\n",
    "\n",
    "    svm_model_pred = svm_model.predict(X_test)\n",
    "\n",
    "    return (\n",
    "        accuracy_score(y_test, svm_model_pred),\n",
    "        recall_score(y_test, svm_model_pred),\n",
    "        precision_score(y_test, svm_model_pred)\n",
    "    )\n",
    "    # raise NotImplementedError()\n",
    "\n",
    "answer_three()"
   ]
  },
  {
   "cell_type": "markdown",
   "id": "34c2117f-76dc-42b6-9a99-3860f5334da8",
   "metadata": {},
   "source": [
    "### Question 4\r\n",
    "\r\n",
    "Using the SVC classifier with parameters `{'C': 1e9, 'gamma': 1e-07}`, what is the confusion matrix when using a threshold of -220 on the decision function. Use X_test and y_test.\r\n",
    "\r\n",
    "*This function should return a confusion matrix, a 2x2 numpy array with 4 integers.*"
   ]
  },
  {
   "cell_type": "code",
   "execution_count": 23,
   "id": "eb5c6b35-0fce-412d-8392-7d7fceabc194",
   "metadata": {},
   "outputs": [
    {
     "data": {
      "text/plain": [
       "array([[5320,   24],\n",
       "       [  14,   66]], dtype=int64)"
      ]
     },
     "execution_count": 23,
     "metadata": {},
     "output_type": "execute_result"
    }
   ],
   "source": [
    "def answer_four():\n",
    "    from sklearn.metrics import confusion_matrix\n",
    "    from sklearn.svm import SVC\n",
    "    \n",
    "    svm_model = SVC(C=1e9, gamma=1e-07)\n",
    "    svm_model.fit(X_train, y_train)\n",
    "\n",
    "    svm_model_pred = svm_model.decision_function(X_test) > -220\n",
    "\n",
    "    return confusion_matrix(y_test, svm_model_pred)\n",
    "    # raise NotImplementedError()\n",
    "\n",
    "answer_four()"
   ]
  },
  {
   "cell_type": "markdown",
   "id": "76759dd9-e814-42f8-b011-a145a2d39b83",
   "metadata": {},
   "source": [
    "### Question 5\r\n",
    "\r\n",
    "Train a logisitic regression classifier with default parameters using X_train and y_train.\r\n",
    "\r\n",
    "For the logisitic regression classifier, create a precision recall curve and a roc curve using y_test and the probability estimates for X_test (probability it is fraud).\r\n",
    "\r\n",
    "Looking at the precision recall curve, what is the recall when the precision is `0.75`?\r\n",
    "\r\n",
    "Looking at the roc curve, what is the true positive rate when the false positive rate is `0.16`?\r\n",
    "\r\n",
    "*This function should return a tuple with two floats, i.e. `(recall, true positive rate)`.*"
   ]
  },
  {
   "cell_type": "code",
   "execution_count": 24,
   "id": "4a96d76b-4813-4832-afc8-068a193804da",
   "metadata": {},
   "outputs": [
    {
     "data": {
      "text/plain": [
       "(0.84, 0.82)"
      ]
     },
     "execution_count": 24,
     "metadata": {},
     "output_type": "execute_result"
    }
   ],
   "source": [
    "def answer_five():\n",
    "    # from sklearn.linear_model import LogisticRegression\n",
    "    # from sklearn.metrics import precision_recall_curve, roc_curve, auc\n",
    "    # import matplotlib.pyplot as plt\n",
    "\n",
    "    # clf = LogisticRegression()\n",
    "    # clf.fit(X_train, y_train)\n",
    "\n",
    "    # y_pred = clf.predict_proba(X_test)[:, 1]\n",
    "\n",
    "    # precision, recall, thresholds = precision_recall_curve(y_test, y_pred)\n",
    "    # fp_rate, tp_rate, _ = roc_curve(y_test, y_pred)\n",
    "\n",
    "    # %matplotlib inline\n",
    "\n",
    "    # fig, (ax1, ax2) = plt.subplots(2, 1)\n",
    "    \n",
    "    # # Precision-Recall curve\n",
    "    # ax1.plot(recall, precision, color=\"red\")\n",
    "    # ax1.set_title(\"Precision-Recall Curve\")\n",
    "    # ax1.set_ylabel(\"Precision\")\n",
    "    # ax1.set_xlabel(\"Recall\")\n",
    "    \n",
    "    # # ROC Curve\n",
    "    # ax2.plot(fp_rate, tp_rate)\n",
    "    # ax1.set_title(\"ROC Curve\")\n",
    "    # ax1.set_ylabel(\"True Positive rate\")\n",
    "    # ax1.set_xlabel(\"False Positive rate\")\n",
    "    \n",
    "    # plt.show()\n",
    "\n",
    "    return (0.84, 0.82)\n",
    "    # raise NotImplementedError()\n",
    "    \n",
    "answer_five()"
   ]
  },
  {
   "cell_type": "markdown",
   "id": "804c12c4-47c9-4497-920f-517a1468df47",
   "metadata": {},
   "source": [
    "### Question 6\r\n",
    "\r\n",
    "Perform a grid search over the parameters listed below for a Logisitic Regression classifier, using recall for scoring and the default 3-fold cross validation. (Suggest to use `solver='liblinear'`, more explanation [here](https://scikit-learn.org/stable/modules/generated/sklearn.linear_model.LogisticRegression.html))\r\n",
    "\r\n",
    "`'penalty': ['l1', 'l2']`\r\n",
    "\r\n",
    "`'C':[0.01, 0.1, 1, 10]`\r\n",
    "\r\n",
    "From `.cv_results_`, create an array of the mean test scores of each parameter combination. i.e.\r\n",
    "\r\n",
    "|      \t| `l1` \t| `l2` \t|\r\n",
    "|:----:\t|----\t|----\t|\r\n",
    "| **`0.01`** \t|    ?\t|   ? \t|\r\n",
    "| **`0.1`**  \t|    ?\t|   ? \t|\r\n",
    "| **`1`**    \t|    ?\t|   ? \t|\r\n",
    "| **`10`**   \t|    ?\t|   ? \t|\r\n",
    "\r\n",
    "<br>\r\n",
    "\r\n",
    "*This function should return a 4 by 2 numpy array with 8 floats.* \r\n",
    "\r\n",
    "*Note: do not return a DataFrame, just the values denoted by `?` in a numpy array.*"
   ]
  },
  {
   "cell_type": "code",
   "execution_count": 28,
   "id": "281a6b21-fa1e-4eaa-8d71-d795ea386589",
   "metadata": {},
   "outputs": [
    {
     "data": {
      "text/plain": [
       "array([[0.69558442, 0.77168831],\n",
       "       [0.80792208, 0.81155844],\n",
       "       [0.80428571, 0.81149351],\n",
       "       [0.80064935, 0.80064935]])"
      ]
     },
     "execution_count": 28,
     "metadata": {},
     "output_type": "execute_result"
    }
   ],
   "source": [
    "def answer_six():    \n",
    "    from sklearn.model_selection import GridSearchCV\n",
    "    from sklearn.linear_model import LogisticRegression\n",
    "\n",
    "    clf = LogisticRegression(solver='liblinear')\n",
    "    clf.fit(X_train, y_train)\n",
    "\n",
    "    grid_vals = {'penalty': ['l1', 'l2'], 'C': [0.01, 0.1, 1, 10]}\n",
    "    grid_clf_rec = GridSearchCV(clf, param_grid = grid_vals, scoring = 'recall')\n",
    "    grid_clf_rec.fit(X_train, y_train)\n",
    "\n",
    "    return np.array([grid_clf_rec.cv_results_['mean_test_score'][x:x+2] for x in range(0, len(grid_clf_rec.cv_results_['mean_test_score']), 2)])\n",
    "    # raise NotImplementedError()\n",
    "\n",
    "answer_six()"
   ]
  },
  {
   "cell_type": "code",
   "execution_count": 30,
   "id": "2cc3630f-ba5f-47b2-87c1-bf3849598e32",
   "metadata": {},
   "outputs": [
    {
     "data": {
      "image/png": "[encoded data removed]",
      "text/plain": [
       "<Figure size 640x480 with 2 Axes>"
      ]
     },
     "metadata": {},
     "output_type": "display_data"
    }
   ],
   "source": [
    "# Use the following function to help visualize results from the grid search\n",
    "def GridSearch_Heatmap(scores):\n",
    "    %matplotlib inline\n",
    "    import seaborn as sns\n",
    "    import matplotlib.pyplot as plt\n",
    "    plt.figure()\n",
    "    sns.heatmap(scores.reshape(4,2), xticklabels=['l1','l2'], yticklabels=[0.01, 0.1, 1, 10])\n",
    "    plt.yticks(rotation=0);\n",
    "\n",
    "GridSearch_Heatmap(answer_six())"
   ]
  },
  {
   "cell_type": "code",
   "execution_count": null,
   "id": "d014941e-2d44-4db3-ae3e-b6d98c2cb0a2",
   "metadata": {},
   "outputs": [],
   "source": []
  }
 ],
 "metadata": {
  "kernelspec": {
   "display_name": ".venv",
   "language": "python",
   "name": ".venv"
  },
  "language_info": {
   "codemirror_mode": {
    "name": "ipython",
    "version": 3
   },
   "file_extension": ".py",
   "mimetype": "text/x-python",
   "name": "python",
   "nbconvert_exporter": "python",
   "pygments_lexer": "ipython3",
   "version": "3.11.7"
  }
 },
 "nbformat": 4,
 "nbformat_minor": 5
}
