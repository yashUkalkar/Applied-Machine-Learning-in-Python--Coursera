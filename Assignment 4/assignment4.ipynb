{
 "cells": [
  {
   "cell_type": "markdown",
   "id": "25513353-d9d4-46bf-a7f3-8c1a05a3476f",
   "metadata": {},
   "source": [
    "# Assignment 4 - Predicting and understanding viewer engagement with educational videos \r\n",
    "\r\n",
    "With the accelerating popularity of online educational experiences, the role of online lectures and other educational video continues to increase in scope and importance. Open access educational repositories such as <a href=\"http://videolectures.net/\">videolectures.net</a>, as well as Massive Open Online Courses (MOOCs) on platforms like Coursera, have made access to many thousands of lectures and tutorials an accessible option for millions of people around the world. Yet this impressive volume of content has also led to a challenge in how to find, filter, and match these videos with learners. This assignment gives you an example of how machine learning can be used to address part of that challenge.\r\n",
    "\r\n",
    "## About the prediction problem\r\n",
    "\r\n",
    "One critical property of a video is engagement: how interesting or \"engaging\" it is for viewers, so that they decide to keep watching. Engagement is critical for learning, whether the instruction is coming from a video or any other source. There are many ways to define engagement with video, but one common approach is to estimate it by measuring how much of the video a user watches. If the video is not interesting and does not engage a viewer, they will typically abandon it quickly, e.g. only watch 5 or 10% of the total. \r\n",
    "\r\n",
    "A first step towards providing the best-matching educational content is to understand which features of educational material make it engaging for learners in general. This is where predictive modeling can be applied, via supervised machine learning. For this assignment, your task is to predict how engaging an educational video is likely to be for viewers, based on a set of features extracted from the video's transcript, audio track, hosting site, and other sources.\r\n",
    "\r\n",
    "We chose this prediction problem for several reasons:\r\n",
    "\r\n",
    "* It combines a variety of features derived from a rich set of resources connected to the original data;\r\n",
    "* The manageable dataset size means the dataset and supervised models for it can be easily explored on a wide variety of computing platforms;\r\n",
    "* Predicting popularity or engagement for a media item, especially combined with understanding which features contribute to its success with viewers, is a fun problem but also a practical representative application of machine learning in a number of business and educational sectors.\r\n",
    "\r\n",
    "\r\n",
    "## About the dataset\r\n",
    "\r\n",
    "We extracted training and test datasets of educational video features from the VLE Dataset put together by researcher Sahan Bulathwela at University College London. \r\n",
    "\r\n",
    "We provide you with two data files for use in training and validating your models: train.csv and test.csv. Each row in these two files corresponds to a single educational video, and includes information about diverse properties of the video content as described further below. The target variable is `engagement` which was defined as True if the median percentage of the video watched across all viewers was at least 30%, and False otherwise.\r\n",
    "\r\n",
    "Note: Any extra variables that may be included in the training set are simply for your interest if you want an additional source of data for visualization, or to enable unsupervised and semi-supervised approaches. However, they are not included in the test set and thus cannot be used for prediction. **Only the data already included in your Coursera directory can be used for training the model for this assignment.**\r\n",
    "\r\n",
    "For this final assignment, you will bring together what you've learned across all four weeks of this course, by exploring different prediction models for this new dataset. In addition, we encourage you to apply what you've learned about model selection to do hyperparameter tuning using training/validation splits of the training data, to optimize the model and further increase its performance. In addition to a basic evaluation of model accuracy, we've also provided a utility function to visualize which features are most and least contributing to the overall model performance.\r\n",
    "\r\n",
    "**File descriptions** \r\n",
    "    assets/train.csv - the training set (Use only this data for training your model!)\r\n",
    "    assets/test.csv - the test set\r\n",
    "<br>\r\n",
    "\r\n",
    "**Data fields**\r\n",
    "\r\n",
    "train.csv & test.csv:\r\n",
    "\r\n",
    "    title_word_count - the number of words in the title of the video.\r\n",
    "    \r\n",
    "    document_entropy - a score indicating how varied the topics are covered in the video, based on the transcript. Videos with smaller entropy scores will tend to be more cohesive and more focused on a single topic.\r\n",
    "    \r\n",
    "    freshness - The number of days elapsed between 01/01/1970 and the lecture published date. Videos that are more recent will have higher freshness values.\r\n",
    "    \r\n",
    "    easiness - A text difficulty measure applied to the transcript. A lower score indicates more complex language used by the presenter.\r\n",
    "    \r\n",
    "    fraction_stopword_presence - A stopword is a very common word like 'the' or 'and'. This feature computes the fraction of all words that are stopwords in the video lecture transcript.\r\n",
    "    \r\n",
    "    speaker_speed - The average speaking rate in words per minute of the presenter in the video.\r\n",
    "    \r\n",
    "    silent_period_rate - The fraction of time in the lecture video that is silence (no speaking).\r\n",
    "    \r\n",
    "train.csv only:\r\n",
    "    \r\n",
    "    engagement - Target label for training. True if learners watched a substantial portion of the video (see description), or False otherwise.\r\n",
    "    \r\n",
    "\r\n",
    "## Evaluation\r\n",
    "\r\n",
    "Your predictions will be given as the probability that the corresponding video will be engaging to learners.\r\n",
    "\r\n",
    "The evaluation metric for this assignment is the Area Under the ROC Curve (AUC). \r\n",
    "\r\n",
    "Your grade will be based on the AUC score computed for your classifier. A model with an AUC (area under ROC curve) of at least 0.8 passes this assignment, and over 0.85 will receive full points.\r\n",
    "___\r\n",
    "\r\n",
    "For this assignment, create a function that trains a model to predict significant learner engagement with a video using `asset/train.csv`. Using this model, return a Pandas Series object of length 2309 with the data being the probability that each corresponding video from `readonly/test.csv` will be engaging (according to a model learned from the 'engagement' label in the training set), and the video index being in the `id` field.\r\n",
    "\r\n",
    "Example:\r\n",
    "\r\n",
    "    id\r\n",
    "       9240    0.401958\r\n",
    "       9241    0.105928\r\n",
    "       9242    0.018572\r\n",
    "                 ...\r\n",
    "       9243    0.208567\r\n",
    "       9244    0.818759\r\n",
    "       9245    0.018528\r\n",
    "             ...\r\n",
    "       Name: engagement, dtype: float32\r\n",
    "       \r\n",
    "### Hints\r\n",
    "\r\n",
    "* Make sure your code is working before submitting it to the autograder.\r\n",
    "\r\n",
    "* Print out and check your result to see whether there is anything weird (e.g., all probabilities are the same).\r\n",
    "\r\n",
    "* Generally the total runtime should be less than 10 mins. \r\n",
    "\r\n",
    "* Try to avoid global variables. If you have other functions besides engagement_model, you should move those functions inside the scope of engagement_model.\r\n",
    "\r\n",
    "* Be sure to first check the pinned threads in Week 4's discussion forum if you run into a problem you can't figure out.\r\n",
    "\r\n",
    "### Extensions\r\n",
    "\r\n",
    "* If this prediction task motivates you to explore further, you can find more details here on the original VLE dataset and others related to video engagement: https://github.com/sahanbull/VLE-Dataset\r\n",
    "\r\n"
   ]
  },
  {
   "cell_type": "code",
   "execution_count": null,
   "id": "1ce77b66-aad1-4d1b-8653-b05509a06575",
   "metadata": {},
   "outputs": [],
   "source": [
    "import warnings\n",
    "warnings.filterwarnings(\"ignore\")\n",
    "\n",
    "import os\n",
    "import pandas as pd\n",
    "import numpy as np\n",
    "import matplotlib.pyplot as plt\n",
    "\n",
    "%matplotlib inline\n",
    "\n",
    "np.random.seed(0)   # Do not change this value: required to be compatible with solutions generated by the autograder."
   ]
  },
  {
   "cell_type": "code",
   "execution_count": null,
   "id": "c472c1fb-57c8-4e88-9950-bca343364c24",
   "metadata": {},
   "outputs": [],
   "source": [
    "train_data = pd.read_csv(\"assets/train.csv\")\n",
    "test_data = pd.read_csv(\"assets/test.csv\")"
   ]
  },
  {
   "cell_type": "code",
   "execution_count": null,
   "id": "051d4676-ad1b-4d43-b6c9-e69ac6d73667",
   "metadata": {},
   "outputs": [],
   "source": [
    "train_data.head()"
   ]
  },
  {
   "cell_type": "code",
   "execution_count": null,
   "id": "83c8899b-dd6d-4a64-8e2e-36814e80826e",
   "metadata": {},
   "outputs": [],
   "source": [
    "test_data.head()"
   ]
  },
  {
   "cell_type": "code",
   "execution_count": null,
   "id": "166ca9eb-82ab-4117-a4d4-916ca882eada",
   "metadata": {},
   "outputs": [],
   "source": [
    "train_data.drop(columns=['id'], inplace=True)\n",
    "train_data.describe()"
   ]
  },
  {
   "cell_type": "code",
   "execution_count": null,
   "id": "5a92f16e-c359-40ae-8a31-84e55e2652cb",
   "metadata": {},
   "outputs": [],
   "source": [
    "test_data.describe()"
   ]
  },
  {
   "cell_type": "code",
   "execution_count": null,
   "id": "5d425197-57a4-4d19-81fd-b83a491e54ac",
   "metadata": {},
   "outputs": [],
   "source": [
    "train_data.isnull().sum()"
   ]
  },
  {
   "cell_type": "code",
   "execution_count": null,
   "id": "58c8ab42-0dfb-4df0-b462-83e8f1f14908",
   "metadata": {},
   "outputs": [],
   "source": [
    "test_data.isnull().sum()"
   ]
  },
  {
   "cell_type": "code",
   "execution_count": null,
   "id": "de0e9047-cc81-423b-ac1f-fa9d08e2bae2",
   "metadata": {},
   "outputs": [],
   "source": [
    "train_data['engagement'].replace({False: 0, True: 1}, inplace=True)\n",
    "train_data.head()"
   ]
  },
  {
   "cell_type": "code",
   "execution_count": null,
   "id": "ae2e803f-ffeb-4fe1-9081-2bc06fdfdd17",
   "metadata": {},
   "outputs": [],
   "source": [
    "X, y = train_data.drop(columns=['engagement']), train_data['engagement']\n",
    "X.head()"
   ]
  },
  {
   "cell_type": "code",
   "execution_count": null,
   "id": "c0f5f215-f49d-4f02-b7e0-daed62fa29fb",
   "metadata": {},
   "outputs": [],
   "source": [
    "y.head()"
   ]
  },
  {
   "cell_type": "code",
   "execution_count": null,
   "id": "48dd8ba5-d05d-4d73-b877-8663d5d08df0",
   "metadata": {},
   "outputs": [],
   "source": [
    "fig, axes = plt.subplots(nrows=2, ncols=4, figsize=(11, 5))\n",
    "\n",
    "axes = axes.flatten()\n",
    "\n",
    "for i, feature in enumerate(X.columns):\n",
    "    ax = axes[i]\n",
    "    ax.boxplot(X[feature], vert=False)\n",
    "    ax.set_title(feature)\n",
    "    ax.grid(True)\n",
    "\n",
    "# Adjust layout to prevent overlap of subplots\n",
    "plt.tight_layout()\n",
    "\n",
    "# Show the plot\n",
    "plt.show()"
   ]
  },
  {
   "cell_type": "code",
   "execution_count": null,
   "id": "5362b2ba-cc16-42f2-8a50-a1278f776efd",
   "metadata": {},
   "outputs": [],
   "source": [
    "outlier_count = {}\n",
    "\n",
    "print(\"Shape of DataFrame before removing outliers:\", X.shape)\n",
    "print()\n",
    "\n",
    "for feature in X.columns:\n",
    "    Q1 = X[feature].quantile(0.25)\n",
    "    Q3 = X[feature].quantile(0.75)\n",
    "    IQR = Q3 - Q1\n",
    "\n",
    "    lower_bound = Q1 - 1.5 * IQR\n",
    "    upper_bound = Q3 + 1.5 * IQR\n",
    "\n",
    "    outliers = X[(X[feature] < lower_bound) | (X[feature] > upper_bound)][feature]\n",
    "    outlier_count[feature] = len(outliers)\n",
    "\n",
    "    # Remove outliers from the DataFrame\n",
    "    X = X[(X[feature] >= lower_bound) & (X[feature] <= upper_bound)]\n",
    "    y = y.loc[X.index]\n",
    "\n",
    "for feature, count in outlier_count.items():\n",
    "    print(f\"Feature '{feature}' has {count} outliers.\")\n",
    "    \n",
    "print()\n",
    "print(\"Shape of DataFrame after removing outliers:\", X.shape)\n",
    "print(\"Shape of 'y' after removing outliers:\", y.shape)"
   ]
  },
  {
   "cell_type": "code",
   "execution_count": null,
   "id": "fa99b424-d82e-4855-a4f1-fab3db1d761d",
   "metadata": {},
   "outputs": [],
   "source": [
    "fig, axes = plt.subplots(nrows=2, ncols=4, figsize=(11, 5))\n",
    "\n",
    "axes = axes.flatten()\n",
    "\n",
    "for i, feature in enumerate(X.columns):\n",
    "    ax = axes[i]\n",
    "    ax.boxplot(X[feature], vert=False)\n",
    "    ax.set_title(feature)\n",
    "    ax.grid(True)\n",
    "\n",
    "# Adjust layout to prevent overlap of subplots\n",
    "plt.tight_layout()\n",
    "\n",
    "# Show the plot\n",
    "plt.show()"
   ]
  },
  {
   "cell_type": "code",
   "execution_count": null,
   "id": "3ac26b95-481d-42e5-aedb-3626ec08a069",
   "metadata": {},
   "outputs": [],
   "source": [
    "from sklearn.model_selection import train_test_split\n",
    "\n",
    "X_train, X_test, y_train, y_test = train_test_split(X, y, random_state=0, test_size=0.2)"
   ]
  },
  {
   "cell_type": "code",
   "execution_count": null,
   "id": "417e159f-93f2-4228-8360-79d1a23c3e1b",
   "metadata": {},
   "outputs": [],
   "source": [
    "# Scaling\n",
    "from sklearn.preprocessing import StandardScaler\n",
    "\n",
    "scaler = StandardScaler()\n",
    "\n",
    "X_train = pd.DataFrame(scaler.fit_transform(X_train))\n",
    "X_test = pd.DataFrame(scaler.fit_transform(X_test))\n",
    "\n",
    "X_train.head()"
   ]
  },
  {
   "cell_type": "code",
   "execution_count": null,
   "id": "b083b594-5345-4a7b-af2f-b5944781ed41",
   "metadata": {},
   "outputs": [],
   "source": [
    "# from sklearn.ensemble import RandomForestClassifier\n",
    "\n",
    "# clf = RandomForestClassifier(n_estimators=250, max_depth=10)\n",
    "# clf.fit(X_train, y_train)"
   ]
  },
  {
   "cell_type": "code",
   "execution_count": null,
   "id": "4f8d5eb2-c5a2-4b06-935f-1b22addd2915",
   "metadata": {},
   "outputs": [],
   "source": [
    "# from sklearn.metrics import roc_auc_score\n",
    "\n",
    "# y_pred = clf.predict(X_test)\n",
    "# score = roc_auc_score(y_test, y_pred)\n",
    "# print(f\"ROC-AUC score = {score}\")"
   ]
  },
  {
   "cell_type": "code",
   "execution_count": null,
   "id": "22eadf53-6b62-4ce9-b505-84a239673379",
   "metadata": {},
   "outputs": [],
   "source": [
    "from sklearn.ensemble import RandomForestClassifier\n",
    "from sklearn.model_selection import GridSearchCV\n",
    "\n",
    "param_grid = {'n_estimators': [100, 200], 'max_depth': [10, 15, 20], 'min_samples_leaf': [1, 2]}\n",
    "\n",
    "clf = RandomForestClassifier(random_state=42)\n",
    "grid_search = GridSearchCV(clf, param_grid=param_grid, cv=5, scoring='roc_auc', verbose=42)\n",
    "\n",
    "grid_search.fit(X_train, y_train)"
   ]
  },
  {
   "cell_type": "code",
   "execution_count": null,
   "id": "32a94439-627f-4b35-b0d3-155bc816c011",
   "metadata": {},
   "outputs": [],
   "source": [
    "grid_search.best_params_"
   ]
  },
  {
   "cell_type": "code",
   "execution_count": null,
   "id": "243c905c-5351-45e1-bc37-7ce70ecbdf15",
   "metadata": {},
   "outputs": [],
   "source": [
    "best_clf = grid_search.best_estimator_"
   ]
  },
  {
   "cell_type": "code",
   "execution_count": null,
   "id": "e3642480-17bc-481e-a9d7-97cdd19db83c",
   "metadata": {},
   "outputs": [],
   "source": [
    "from sklearn.metrics import roc_auc_score\n",
    "\n",
    "y_pred = best_clf.predict_proba(X_test)[:, 1]\n",
    "score = roc_auc_score(y_test, y_pred)\n",
    "\n",
    "print('Validation AUC score:', score)"
   ]
  },
  {
   "cell_type": "code",
   "execution_count": 497,
   "id": "f6435540-a87e-4cac-a71c-4cd0f145b356",
   "metadata": {},
   "outputs": [
    {
     "data": {
      "text/plain": [
       "(1498,)"
      ]
     },
     "execution_count": 497,
     "metadata": {},
     "output_type": "execute_result"
    }
   ],
   "source": [
    "y_pred.shape"
   ]
  },
  {
   "cell_type": "code",
   "execution_count": null,
   "id": "85d6ce82-336f-4f50-b6da-4e650d4e5a3c",
   "metadata": {
    "scrolled": true
   },
   "outputs": [],
   "source": [
    "def engagement_model():\n",
    "    # Importing packages\n",
    "    from sklearn.preprocessing import StandardScaler\n",
    "    from sklearn.ensemble import RandomForestClassifier\n",
    "    from sklearn.model_selection import GridSearchCV\n",
    "\n",
    "    # Loading data\n",
    "    train_data = pd.read_csv('assets/train.csv')\n",
    "    test_data = pd.read_csv('assets/test.csv')\n",
    "\n",
    "    # EDA Preprocessing\n",
    "    X_train, y_train = train_data.drop(columns=['id', 'engagement']), train_data['engagement']\n",
    "    X_test = test_data.drop(columns=['id'])\n",
    "\n",
    "    scaler = StandardScaler()\n",
    "    X_train_scaled = pd.DataFrame(scaler.fit_transform(X_train))\n",
    "    X_test_scaled = pd.DataFrame(scaler.fit_transform(X_test))\n",
    "\n",
    "    # Model training optimization\n",
    "    clf = RandomForestClassifier(random_state=42)\n",
    "    param_grid = {'n_estimators': [100, 200], 'max_depth': [10, 15, 20], 'min_samples_leaf': [1, 2]}\n",
    "    grid_search = GridSearchCV(clf, param_grid=param_grid, cv=5, scoring='roc_auc')\n",
    "\n",
    "    grid_search.fit(X_train_scaled, y_train)\n",
    "\n",
    "    grid_search.best_params_\n",
    "\n",
    "    best_clf = grid_search.best_estimator_\n",
    "\n",
    "    y_pred = best_clf.predict_proba(X_test_scaled)[:, 1]\n",
    "\n",
    "    return pd.Series(y_pred, index=test_data['id'], name='engagement')\n",
    "\n",
    "# engagement_model()"
   ]
  },
  {
   "cell_type": "code",
   "execution_count": null,
   "id": "bb96a82b-2842-48ac-b9e4-f82d5e122990",
   "metadata": {},
   "outputs": [],
   "source": [
    "# stu_ans = engagement_model()\n",
    "# assert isinstance(stu_ans, pd.Series), \"Your function should return a pd.Series. \"\n",
    "# assert len(stu_ans) == 2309, \"Your series is of incorrect length: expected 2309 \"\n",
    "# assert np.issubdtype(stu_ans.index.dtype, np.integer), \"Your answer pd.Series should have an index of integer type representing video id.\""
   ]
  }
 ],
 "metadata": {
  "kernelspec": {
   "display_name": ".venv",
   "language": "python",
   "name": ".venv"
  },
  "language_info": {
   "codemirror_mode": {
    "name": "ipython",
    "version": 3
   },
   "file_extension": ".py",
   "mimetype": "text/x-python",
   "name": "python",
   "nbconvert_exporter": "python",
   "pygments_lexer": "ipython3",
   "version": "3.11.7"
  }
 },
 "nbformat": 4,
 "nbformat_minor": 5
}
